{
  "cells": [
    {
      "cell_type": "code",
      "source": [
        "import os\n",
        "import math\n",
        "import numpy as np\n",
        "import pickle\n",
        "import requests\n",
        "import urllib.request\n",
        "import io\n",
        "import zipfile\n",
        "import warnings\n",
        "\n",
        "# html\n",
        "from bs4 import BeautifulSoup as bs\n",
        "\n",
        "from sklearn.neural_network import MLPClassifier\n",
        "from sklearn.metrics import precision_recall_fscore_support, accuracy_score, confusion_matrix"
      ],
      "outputs": [],
      "execution_count": 1,
      "metadata": {
        "gather": {
          "logged": 1710925540206
        }
      }
    },
    {
      "cell_type": "code",
      "source": [
        "with zipfile.ZipFile('FakeNewsData.zip', 'r') as zipper:\n",
        "      zipper.extractall()\n",
        "\n",
        "# Import pandas\n",
        "import pandas as pd\n",
        "\n",
        "# reading csv file \n",
        "files = pd.read_csv(\"politifact_fake.csv\")\n",
        "print(files.head())\n",
        "\n",
        "\n",
        "  # natural language and vocab\n",
        "import nltk\n",
        "nltk.download('words')\n",
        "from nltk.corpus import words\n",
        "vocab = words.words()\n",
        "\n",
        "warnings.warn('Data loaded.')"
      ],
      "outputs": [
        {
          "output_type": "stream",
          "name": "stdout",
          "text": "                id                                           news_url  \\\n0  politifact15014          speedtalk.com/forum/viewtopic.php?t=51650   \n1  politifact15156  politics2020.info/index.php/2018/03/13/court-o...   \n2  politifact14745  www.nscdscamps.org/blog/category/parenting/467...   \n3  politifact14355  https://howafrica.com/oscar-pistorius-attempts...   \n4  politifact15371  http://washingtonsources.org/trump-votes-for-d...   \n\n                                               title  \\\n0  BREAKING: First NFL Team Declares Bankruptcy O...   \n1  Court Orders Obama To Pay $400 Million In Rest...   \n2  UPDATE: Second Roy Moore Accuser Works For Mic...   \n3         Oscar Pistorius Attempts To Commit Suicide   \n4        Trump Votes For Death Penalty For Being Gay   \n\n                                           tweet_ids  \n0  937349434668498944\\t937379378006282240\\t937380...  \n1  972666281441878016\\t972678396575559680\\t972827...  \n2  929405740732870656\\t929439450400264192\\t929439...  \n3  886941526458347521\\t887011300278194176\\t887023...  \n4  915205698212040704\\t915242076681506816\\t915249...  \n"
        },
        {
          "output_type": "stream",
          "name": "stderr",
          "text": "[nltk_data] Downloading package words to /home/azureuser/nltk_data...\n[nltk_data]   Package words is already up-to-date!\n/tmp/ipykernel_26475/1867375044.py:18: UserWarning: Data loaded.\n  warnings.warn('Data loaded.')\n"
        }
      ],
      "execution_count": 2,
      "metadata": {
        "jupyter": {
          "source_hidden": false,
          "outputs_hidden": false
        },
        "nteract": {
          "transient": {
            "deleting": false
          }
        },
        "gather": {
          "logged": 1710925542665
        }
      }
    },
    {
      "cell_type": "code",
      "source": [
        "import requests\n",
        "uRL=[]\n",
        "content=[]\n",
        "for(columnName, columnData) in files.iteritems():\n",
        "    print('Column Name : ', columnName)\n",
        "    if columnName =='news_url':\n",
        "        uRL=columnData.values\n",
        "        break\n",
        "i=0\n",
        "for u in uRL:\n",
        "    print(u)\n",
        "    try:\n",
        "       r = requests.get(u)\n",
        "       print(i)\n",
        "       content.append(r.content)\n",
        "    except:\n",
        "        files.drop(i,axis=0,inplace=True)\n",
        "    \n",
        "    i+=1"
      ],
      "outputs": [
        {
          "output_type": "stream",
          "name": "stdout",
          "text": "Column Name :  id\nColumn Name :  news_url\nspeedtalk.com/forum/viewtopic.php?t=51650\npolitics2020.info/index.php/2018/03/13/court-orders-obama-to-pay-400-million-in-restitution/\nwww.nscdscamps.org/blog/category/parenting/467344/update-second-roy-moore-accuser-works-for-michelle-obama-right-now-departed\nhttps://howafrica.com/oscar-pistorius-attempts-commit-suicide/\n3\nhttp://washingtonsources.org/trump-votes-for-death-penalty-for-being-gay-5/\n4\ngloria.tv/video/yRrtUtTCfPga6cq2VDJPcgQe4\nhttp://blogs.trendolizer.com/2015/01/new-york-man-wanted-for-infecting-240-men-and-women-with-hiv.html\n6\nhttps://web.archive.org/web/20171027105356/http://www.religionmind.com:80/2017/10/saudi-arabia-behead-6-school-girls-for.html\n7\nhttps://web.archive.org/web/20170702174006/http://freedomcrossroads.us:80/malia-obama-fired-from-cushy-internship-at-spanish-embassy\n8\nhttp://beforeitsnews.com/opinion-conservative/2016/05/target-to-discontinue-sale-of-holy-bible-3139296.html\n9\nhttp://yournewswire.com/youngest-leader-george-soros/\n10\nhttps://web.archive.org/web/20170731052757/http://politicspaper.com:80/breaking/breaking-hillary-clinton-third-heart-attack-docs-says-wont-survive/\n11\nhttp://dailyfeed.news/barack-obama-tweets-sick-attack-on-john-mccain-says-he-should-have-died/\n12\njis.gov.jm/president-trump-underscores-us-jamaica-relations/\nme.me/i/actress-sandra-bullock-to-hillary-clinton-if-you-dont-like-19509139\nhttp://therightists.com/gretchen-carlson-the-2nd-amendment-was-written-before-guns-were-invented/\nhttp://yournewswire.com/pope-francis-jesus-metaphorical/\n16\nhttps://web.archive.org/web/20180503143610/https://rickeysmileymorningshow.com/1908839/black-men-arrested-in-philadelphia-starbucks-settle-for-2-million/\n17\nhttp://www.breitbart.com/california/2017/10/17/ice-detainer-issued-for-suspected-wine-country-arsonist-in-sonoma-jail/\n18\nhttps://www.politico.com/story/2017/05/09/trump-presidents-carter-bush-clinton-238125\n19\nwww.mirror.co.uk/news/us-news/there-blood-everywhere-terrified-students-12029466\nhttp://nrtonline.info/breaking-nancy-pelosi-to-resign-after-new-revelations/\nhttps://www.independent.co.uk/arts-entertainment/music/news/donald-trump-inauguration-ceremony-artists-performing-elton-john-legend-celine-dion-a7492991.html\n22\nusaconservativereport.com/2017/08/breaking-leaked-picture-obama-dragged-judge-handcuffs-wiretapping-trump/\nhttps://www.puppetstringnews.com/blog/clinton-campaign-official-arrested-by-fbi-on-child-rapetrafficking-charges\n24\ndonaldtrainews.blogspot.com/2017/11/breaking-rosa-parks-granddaughter-slams.html\nurbanintellectuals.com/2013/05/07/nra-president-jim-porter-its-only-a-matter-of-time-before-we-can-own-colored-people-again/\nthehill.com/homenews/campaign/308895-biden-raises-possibility-of-2020-presidential-bid\nhttps://newsbreakshere.com/nyc-physician-wife-jump-deathleave-kids-behind-cant-afford-health-care-hours-mccain-murkowski-collins-every-democrat-voted\n28\nhttp://www.breakingnews365.net/5a00d7972338f/snapchat-is-shutting-down.html\n29\nwww.cnn.com/2017/09/13/politics/susan-rice-house-investigators-unmasked-trump-officials/index.html\nhttps://newsbreakshere.com/breaking-meryl-streep-just-got-fired-major-project-lying-trump-2\n31\nhttp://yournewswire.com/clinton-email-we-must-destroy-syria-for-israel/\n32\nhttps://quickening-spirit.com/fareed-zakaria-calls-for-jihad-rape-of-white-women/\nwww.newsweek.com/president-donald-trump-kim-jong-un-nobel-peace-prize-north-korea-south-korea-905146\nwww.usacarry.com/forums/politics-and-news/62789-update-hillary-clinton-leaves-country-mueller-indictment-announced.html\nhttp://pegida.trendolizer.com/2017/10/breaking-illegal-muslim-from-iran-arrested-for-starting-california-wildfire.html\n36\nhttp://econewsmedia.org/2018/02/01/nfl-lawyer-claimed-super-bowl-rigged-found-dead/\n37\nhttps://worldnewsdailyreport.com/japanese-whaling-crew-eaten-alive-by-killer-whales-16-dead/\n38\nwww.smoaky.com/forum/index.php?/topic/161489-barrels-removed-from-clinton-property-contain-parts-from-3-missing-women/\nhttp://londonwebnews.com/2017/06/01/liberal-women-hate-me-because-of-my-striking-beauty-and-intellect-says-kellyanne-conway/\nwww.thesun.co.uk/news/5999912/buzz-aldrin-ufo-lie-detector-test-alien-life-exists-convinced/\nhttps://www.politico.com/story/2018/01/17/full-text-jeff-flake-on-trump-speech-transcript-343246\n42\nhttp://politicot.com/mike-pence-allowing-rape-victims-abortions-will-lead-women-trying-get-raped/\nhttp://politicot.com/paul-ryan-22-million-americans-choose-poor-problem-cant-afford-healthy/\nhttp://nyeveningnews.com/2018/05/08/pope-francis-gun-owners-cant-call-themselves-christian-anymore/\n45\nhttps://www.ravinderbhalla.com/about/\nhttp://www.neonnettle.com/videos/473-doctors-who-discovered-cancer-enzymes-in-vaccines-all-found-murdered\n47\nhttps://yournewswire.com/broward-county-sheriff-fired/\n48\nhttp://www.newslo.com/price-better-budget-cancer-patients-die-quickly/\n49\nhttps://sentinelksmo.org/breaking-greitens-accuser-admits-photo-session-may-dream/\n50\nhttps://lidblog.com/illegal-immigrant-mexican-kids/\n51\nwww.christforums.org/topic/4569-pope-francis-to-followers-%E2%80%9Ckoran-and-holy-bible-are-the-same%E2%80%9D/\nhttp://now8news.com/united-airlines-flight-attendant-slaps-crying-baby/\n53\nhttp://mysteriousearth.club/2018/04/08/cia-release-documents-of-moon-moon-has-more-than-250-million-citizens/\n54\nwww.haaretz.com/us-news/how-donald-trump-lost-the-war-on-christmas-1.5629520\nhttps://exclusive103.com/2018/04/30/thousands-killed-as-israel-drops-tactical-nuclear-bomb-on-syria/\n56\nwww.theguardian.com/us-news/2017/aug/12/virginia-unite-the-right-rally-protest-violence\nsportfella.com/breaking-fox-sports-cancels-nfl-broadcasts-players-respect-flag/\nhttps://www.house.gov/content/learn/legislative_process/\n59\nhttps://emsnews.wordpress.com/2017/09/26/head-of-nfl-fines-steeler-teammates-1-million-each/\n60\nhttps://www.nbcnews.com/politics/congress/debbie-wasserman-schultz-aide-arrested-trying-flee-country-n786651\n61\nobama.trendolizer.com/2017/12/breaking-sasha-obama-just-crashed-her-expensive-new-car-into-a-lake.html\nhttps://www.facebook.com/MillerForTexas/photos/a.1430872243801609.1073741828.1427314137490753/1934485643440264/?type=3&theater\n63\nwww.newslo.com/kasich-woman-not-intelligent-enough-keep-legs-closed-can-entrust-abortion-decision/\nhttps://teddystick.com/democrat-maxine-waters-has-shown-up-to-only-10-of-congressional-meetings-for-35-years/\n65\nhttps://web.archive.org/web/20170217234839/http://liberalplug.com:80/2017/02/11/gop-official-says-america-needs-another-911-shares-_______________-trump\n66\nhttps://web.archive.org/web/20180125013854/http://www.thepatriotreport.net/82-year-old-who-killed-a-muslim-in-self-defense-gets-the-death-penalty/\n67\nwww.pirate4x4.com/forum/general-chit-chat/2543657-dea-just-raided-united-states-senator.html\nhttps://dailyworldupdate.us/2018/04/29/cnn-shocks-america-fires-journalist-who-made-fun-of-sarah-sanders-face/\n69\nhttp://flashnewss.club/trumps-dhs-secretary-confirms-they-are-preparing-to-arrest-sanctuary-city-leaders/\nhttp://www.react365.com/59c3d4c2e4a9d/twelve-more-hurricanes-headed-towards-us.html\n71\nhttp://eveningw.com/california-democrat-maxine-waters-charged-3-counts-support/\nhttp://nrtonline.info/breaking-british-intelligence-seizes-clinton-foundation-warehouse-400-million-in-cash/\nhttp://hotgazette.com/rudy-giuliani/official-rudy-giuliani-officially-resigns-trumps-legal-team-on-its-last-leg/\nhttps://www.nyfoxnews.co/michelle-obama-just-received-life-shattering-news-from-the-doctor/\nhttp://usnnetwork.com/special-report-georgia-becomes-first-state-to-ban-muslim-culture-in-historic-move-to-restore-western-values/\n76\nhttps://yournewswire.com/tens-of-thousands-of-scientists-declare-climate-change-a-hoax/\n77\nhttps://www.facebook.com/OccupyDemocrats/photos/a.347907068635687.81180.346937065399354/1215787178514334/?type=3&theater\n78\nwww.firstpost.com/world/donald-trump-to-issue-an-executive-order-to-ban-facebook-across-us-3363348.html\nwww.vox.com/policy-and-politics/2018/4/2/17164266/trump-russia-mueller-email-hackings-dnc-clinton\nhttps://web.archive.org/web/20170508145802/http://americanflavor.news:80/2017/05/02/just-barack-obama-arrested-japanese-drug-bust\n81\nhttps://yournewswire.com/lisa-page-squeals-dnc-server-not-hacked-russia/\n82\nworldnewsdailyreport.com/bin-laden-is-alive-and-well-in-the-bahamas-says-edward-snowden/\nhttp://www.newsdonaldtrumps.com/robert-redford-says-michelle-and-barack-obama-should-get-five-years-in-prison/\nhttps://web.archive.org/web/20180210020716/http://www.delta-flying.info:80/?\n85\nhttps://web.archive.org/web/20170914182404/http://freedumjunkshun.com:80/mar-a-lago-is-missing-after-kushner-destroyed/\n86\nhttps://yournewswire.com/puerto-rico-mayor-fraud-disaster/\n87\nhttp://sciencevibe.com/2018/04/11/dying-78-year-old-cia-agent-admits-to-killing-marilyn-monroe/\n88\nhttps://medium.com/@bobcrane_55517/breaking-news-fbi-uncovers-evidence-that-62-million-trump-voters-are-all-russian-agents-bc33994a4286\n89\nmightynest.com/learn/research-by-concern/dangers-of-triclosan\nhttps://www.chicagosuntimes.live/queen-elizabeth-says-muslim-refugees-are-dividing-nationality-i-fully-agree-with-donald-trump-we-shouldvideo/\nhttps://theglobalheadlines.net/hollywood-actor-bruce-willis-trump-is-the-best-us-president-ever-anyone-who-dislikes-him-should-move-to-2/\nhttps://web.archive.org/web/20170207153836/http://thetrumpmedia.com:80/politics/mccain-blamed-sabotaging-trump\n93\nhttp://www.react365.com\n94\nhttp://patriotcrier.com/1-6kk-0/\n95\nhttp://americannews.com/busted-nasa-accidentally-destroys-every-climate-change-advocate-exposing-massive-truth-behind-antartica/\n96\nhttp://www.trendolizer.com/2017/10/actress-jennifer-aniston-me-and-all-the-trump-supporter-celebrities-decide-to-make-a-company-named-c.html\n97\nhttp://www.bluedotdaily.com/trump-police-officers-and-firefighters-make-too-much-money-hits-them-with-tax-penalty/\n98\nhttps://web.archive.org/web/20170307175331/http://undergroundnewsreport.com/the-truth/whoopi-goldberg-navy-seal-widow-looking-attention/\n"
        }
      ],
      "execution_count": null,
      "metadata": {
        "jupyter": {
          "source_hidden": false,
          "outputs_hidden": false
        },
        "nteract": {
          "transient": {
            "deleting": false
          }
        },
        "gather": {
          "logged": 1710925796850
        }
      }
    },
    {
      "cell_type": "code",
      "source": [
        "print(len(content))"
      ],
      "outputs": [],
      "execution_count": null,
      "metadata": {
        "jupyter": {
          "source_hidden": false,
          "outputs_hidden": false
        },
        "nteract": {
          "transient": {
            "deleting": false
          }
        },
        "gather": {
          "logged": 1710925796874
        }
      }
    },
    {
      "cell_type": "code",
      "source": [
        "num_of_rows = len(files)\n",
        "\n",
        "print(f\"The number of rows is {num_of_rows}\")"
      ],
      "outputs": [],
      "execution_count": null,
      "metadata": {
        "jupyter": {
          "source_hidden": false,
          "outputs_hidden": false
        },
        "nteract": {
          "transient": {
            "deleting": false
          }
        },
        "gather": {
          "logged": 1710925796890
        }
      }
    },
    {
      "cell_type": "code",
      "source": [
        "import requests\n",
        "uRL=[]\n",
        "content=[]\n",
        "for(columnName, columnData) in files.iteritems():\n",
        "    print('Column Name : ', columnName)\n",
        "    if columnName =='news_url':\n",
        "        uRL=columnData.values\n",
        "        break\n",
        "i=0\n",
        "for u in uRL:\n",
        "    print(u)\n",
        "    try:\n",
        "       r = requests.get(u)\n",
        "       print(i)\n",
        "       content.append(r.content)\n",
        "    except:\n",
        "        files.drop(i,axis=0,inplace=True)\n",
        "    \n",
        "    i+=1"
      ],
      "outputs": [],
      "execution_count": null,
      "metadata": {
        "jupyter": {
          "source_hidden": false,
          "outputs_hidden": false
        },
        "nteract": {
          "transient": {
            "deleting": false
          }
        },
        "gather": {
          "logged": 1710925796909
        }
      }
    }
  ],
  "metadata": {
    "kernelspec": {
      "name": "python38-azureml",
      "language": "python",
      "display_name": "Python 3.8 - AzureML"
    },
    "language_info": {
      "name": "python",
      "version": "3.8.5",
      "mimetype": "text/x-python",
      "codemirror_mode": {
        "name": "ipython",
        "version": 3
      },
      "pygments_lexer": "ipython3",
      "nbconvert_exporter": "python",
      "file_extension": ".py"
    },
    "microsoft": {
      "ms_spell_check": {
        "ms_spell_check_language": "en"
      },
      "host": {
        "AzureML": {
          "notebookHasBeenCompleted": true
        }
      }
    },
    "kernel_info": {
      "name": "python38-azureml"
    },
    "nteract": {
      "version": "nteract-front-end@1.0.0"
    }
  },
  "nbformat": 4,
  "nbformat_minor": 2
}